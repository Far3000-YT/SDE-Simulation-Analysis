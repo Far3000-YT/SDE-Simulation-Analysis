{
 "cells": [
  {
   "cell_type": "markdown",
   "metadata": {},
   "source": [
    "Day 3 - Today, we work on Milstein Scheme for the GBM (Geometric Brownian Motion), its almost similar but we'll compare the 2 vectorized functions to see differences, since this one is better in term of accuracy"
   ]
  }
 ],
 "metadata": {
  "language_info": {
   "name": "python"
  }
 },
 "nbformat": 4,
 "nbformat_minor": 2
}
